{
 "cells": [
  {
   "cell_type": "code",
   "execution_count": 2,
   "metadata": {},
   "outputs": [
    {
     "name": "stderr",
     "output_type": "stream",
     "text": [
      "Using TensorFlow backend.\n"
     ]
    }
   ],
   "source": [
    "%matplotlib inline\n",
    "import matplotlib.pyplot as plt\n",
    "import numpy as np\n",
    "import pandas as pd\n",
    "import keras"
   ]
  },
  {
   "cell_type": "code",
   "execution_count": 3,
   "metadata": {},
   "outputs": [],
   "source": [
    "df = pd.read_csv('../data/HousingPrices.csv')"
   ]
  },
  {
   "cell_type": "code",
   "execution_count": 4,
   "metadata": {},
   "outputs": [
    {
     "data": {
      "text/html": [
       "<div>\n",
       "<style scoped>\n",
       "    .dataframe tbody tr th:only-of-type {\n",
       "        vertical-align: middle;\n",
       "    }\n",
       "\n",
       "    .dataframe tbody tr th {\n",
       "        vertical-align: top;\n",
       "    }\n",
       "\n",
       "    .dataframe thead th {\n",
       "        text-align: right;\n",
       "    }\n",
       "</style>\n",
       "<table border=\"1\" class=\"dataframe\">\n",
       "  <thead>\n",
       "    <tr style=\"text-align: right;\">\n",
       "      <th></th>\n",
       "      <th>SquareFeet</th>\n",
       "      <th>SalePrice</th>\n",
       "    </tr>\n",
       "  </thead>\n",
       "  <tbody>\n",
       "    <tr>\n",
       "      <td>0</td>\n",
       "      <td>1710</td>\n",
       "      <td>208500</td>\n",
       "    </tr>\n",
       "    <tr>\n",
       "      <td>1</td>\n",
       "      <td>1262</td>\n",
       "      <td>181500</td>\n",
       "    </tr>\n",
       "    <tr>\n",
       "      <td>2</td>\n",
       "      <td>1786</td>\n",
       "      <td>223500</td>\n",
       "    </tr>\n",
       "    <tr>\n",
       "      <td>3</td>\n",
       "      <td>1717</td>\n",
       "      <td>140000</td>\n",
       "    </tr>\n",
       "    <tr>\n",
       "      <td>4</td>\n",
       "      <td>2198</td>\n",
       "      <td>250000</td>\n",
       "    </tr>\n",
       "  </tbody>\n",
       "</table>\n",
       "</div>"
      ],
      "text/plain": [
       "   SquareFeet  SalePrice\n",
       "0        1710     208500\n",
       "1        1262     181500\n",
       "2        1786     223500\n",
       "3        1717     140000\n",
       "4        2198     250000"
      ]
     },
     "execution_count": 4,
     "metadata": {},
     "output_type": "execute_result"
    }
   ],
   "source": [
    "df.head()"
   ]
  },
  {
   "cell_type": "code",
   "execution_count": 5,
   "metadata": {},
   "outputs": [
    {
     "name": "stdout",
     "output_type": "stream",
     "text": [
      "<class 'pandas.core.frame.DataFrame'>\n",
      "RangeIndex: 1460 entries, 0 to 1459\n",
      "Data columns (total 2 columns):\n",
      "SquareFeet    1460 non-null int64\n",
      "SalePrice     1460 non-null int64\n",
      "dtypes: int64(2)\n",
      "memory usage: 22.9 KB\n"
     ]
    }
   ],
   "source": [
    "df.info()"
   ]
  },
  {
   "cell_type": "code",
   "execution_count": 8,
   "metadata": {},
   "outputs": [
    {
     "data": {
      "text/plain": [
       "array([[1710],\n",
       "       [1262],\n",
       "       [1786],\n",
       "       ...,\n",
       "       [2340],\n",
       "       [1078],\n",
       "       [1256]])"
      ]
     },
     "execution_count": 8,
     "metadata": {},
     "output_type": "execute_result"
    }
   ],
   "source": [
    "# double array [[]] mean to assin with array container array() else [..]\n",
    "squaredFeet = df[['SquareFeet']].values\n",
    "squaredFeet"
   ]
  },
  {
   "cell_type": "code",
   "execution_count": 9,
   "metadata": {},
   "outputs": [
    {
     "data": {
      "text/plain": [
       "array([[208500],\n",
       "       [181500],\n",
       "       [223500],\n",
       "       ...,\n",
       "       [266500],\n",
       "       [142125],\n",
       "       [147500]])"
      ]
     },
     "execution_count": 9,
     "metadata": {},
     "output_type": "execute_result"
    }
   ],
   "source": [
    "saledPrice = df[['SalePrice']].values\n",
    "saledPrice"
   ]
  },
  {
   "cell_type": "code",
   "execution_count": 11,
   "metadata": {},
   "outputs": [],
   "source": [
    "# Sequential() for linear layer , input has only 1 value so 1\n",
    "model = keras.Sequential()\n",
    "model.add(keras.layers.Dense(1, input_shape=(1,) ))\n",
    "model.compile(keras.optimizers.Adam(lr=0.8), 'mean_squared_error')"
   ]
  },
  {
   "cell_type": "code",
   "execution_count": 13,
   "metadata": {},
   "outputs": [
    {
     "name": "stdout",
     "output_type": "stream",
     "text": [
      "Epoch 1/30\n",
      "1460/1460 [==============================] - 1s 465us/step - loss: 17153012553.6438\n",
      "Epoch 2/30\n",
      "1460/1460 [==============================] - 0s 94us/step - loss: 3803088928.0000\n",
      "Epoch 3/30\n",
      "1460/1460 [==============================] - 0s 66us/step - loss: 3198228039.4521\n",
      "Epoch 4/30\n",
      "1460/1460 [==============================] - 0s 65us/step - loss: 3190387566.9041\n",
      "Epoch 5/30\n",
      "1460/1460 [==============================] - 0s 66us/step - loss: 3194611939.2877\n",
      "Epoch 6/30\n",
      "1460/1460 [==============================] - 0s 74us/step - loss: 3184515159.8904\n",
      "Epoch 7/30\n",
      "1460/1460 [==============================] - 0s 64us/step - loss: 3180239264.6575\n",
      "Epoch 8/30\n",
      "1460/1460 [==============================] - 0s 73us/step - loss: 3220824782.4658\n",
      "Epoch 9/30\n",
      "1460/1460 [==============================] - 0s 90us/step - loss: 3174147808.6575\n",
      "Epoch 10/30\n",
      "1460/1460 [==============================] - 0s 100us/step - loss: 3180183725.8082\n",
      "Epoch 11/30\n",
      "1460/1460 [==============================] - 0s 72us/step - loss: 3205848929.7534\n",
      "Epoch 12/30\n",
      "1460/1460 [==============================] - 0s 92us/step - loss: 3192765451.3973\n",
      "Epoch 13/30\n",
      "1460/1460 [==============================] - 0s 100us/step - loss: 3178460719.1233\n",
      "Epoch 14/30\n",
      "1460/1460 [==============================] - 0s 76us/step - loss: 3200699211.8356\n",
      "Epoch 15/30\n",
      "1460/1460 [==============================] - 0s 110us/step - loss: 3215431824.2192\n",
      "Epoch 16/30\n",
      "1460/1460 [==============================] - 0s 111us/step - loss: 3190823985.5342\n",
      "Epoch 17/30\n",
      "1460/1460 [==============================] - 0s 68us/step - loss: 3193396053.2603\n",
      "Epoch 18/30\n",
      "1460/1460 [==============================] - 0s 69us/step - loss: 3175651291.6164\n",
      "Epoch 19/30\n",
      "1460/1460 [==============================] - 0s 73us/step - loss: 3204180839.4521\n",
      "Epoch 20/30\n",
      "1460/1460 [==============================] - 0s 65us/step - loss: 3209601977.8630\n",
      "Epoch 21/30\n",
      "1460/1460 [==============================] - 0s 73us/step - loss: 3191779332.1644\n",
      "Epoch 22/30\n",
      "1460/1460 [==============================] - 0s 69us/step - loss: 3184008541.8082\n",
      "Epoch 23/30\n",
      "1460/1460 [==============================] - 0s 83us/step - loss: 3206551694.1370\n",
      "Epoch 24/30\n",
      "1460/1460 [==============================] - 0s 88us/step - loss: 3195031274.7397\n",
      "Epoch 25/30\n",
      "1460/1460 [==============================] - 0s 106us/step - loss: 3201143277.3699\n",
      "Epoch 26/30\n",
      "1460/1460 [==============================] - 0s 106us/step - loss: 3201994469.4795\n",
      "Epoch 27/30\n",
      "1460/1460 [==============================] - 0s 79us/step - loss: 3201896346.3014\n",
      "Epoch 28/30\n",
      "1460/1460 [==============================] - 0s 66us/step - loss: 3188129773.1507\n",
      "Epoch 29/30\n",
      "1460/1460 [==============================] - 0s 77us/step - loss: 3184156486.7945\n",
      "Epoch 30/30\n",
      "1460/1460 [==============================] - 0s 114us/step - loss: 3201627503.3425\n"
     ]
    },
    {
     "data": {
      "text/plain": [
       "<keras.callbacks.callbacks.History at 0x7f9a78c27f90>"
      ]
     },
     "execution_count": 13,
     "metadata": {},
     "output_type": "execute_result"
    }
   ],
   "source": [
    "# Train the model, iterating on the data in batches of 10 samples, 30 iterations\n",
    "model.fit(squaredFeet, saledPrice, epochs=30, batch_size=10)"
   ]
  },
  {
   "cell_type": "code",
   "execution_count": 20,
   "metadata": {},
   "outputs": [
    {
     "data": {
      "text/plain": [
       "[<matplotlib.lines.Line2D at 0x7f9a70171610>]"
      ]
     },
     "execution_count": 20,
     "metadata": {},
     "output_type": "execute_result"
    },
    {
     "data": {
      "image/png": "[encoded data removed]",
      "text/plain": [
       "<Figure size 432x288 with 1 Axes>"
      ]
     },
     "metadata": {
      "needs_background": "light"
     },
     "output_type": "display_data"
    }
   ],
   "source": [
    "# draw scatter plot\n",
    "df.plot(kind='scatter', x='SquareFeet', y='SalePrice', title='Housing Price Prediction')\n",
    "# use the training model\n",
    "y_pred = model.predict(squaredFeet)\n",
    "# add the linear line\n",
    "plt.ylabel('Price in USD')\n",
    "plt.xlabel('Area in Squared Feet')\n",
    "plt.plot(squaredFeet, y_pred, color='red')"
   ]
  },
  {
   "cell_type": "code",
   "execution_count": 29,
   "metadata": {},
   "outputs": [
    {
     "data": {
      "text/plain": [
       "array([[238838.1]], dtype=float32)"
      ]
     },
     "execution_count": 29,
     "metadata": {},
     "output_type": "execute_result"
    }
   ],
   "source": [
    "# feed the SquaredFeet as input and get output as Price\n",
    "newSquaredFeet = 2000\n",
    "predictedVal = model.predict([newSquaredFeet])\n",
    "predictedVal"
   ]
  },
  {
   "cell_type": "code",
   "execution_count": 33,
   "metadata": {},
   "outputs": [
    {
     "name": "stdout",
     "output_type": "stream",
     "text": [
      "[[238838.1]] USD\n"
     ]
    }
   ],
   "source": [
    "print(\"{} USD\".format(predictedVal))"
   ]
  },
  {
   "cell_type": "code",
   "execution_count": null,
   "metadata": {},
   "outputs": [],
   "source": []
  }
 ],
 "metadata": {
  "kernelspec": {
   "display_name": "Python 3",
   "language": "python",
   "name": "python3"
  },
  "language_info": {
   "codemirror_mode": {
    "name": "ipython",
    "version": 3
   },
   "file_extension": ".py",
   "mimetype": "text/x-python",
   "name": "python",
   "nbconvert_exporter": "python",
   "pygments_lexer": "ipython3",
   "version": "3.7.4"
  }
 },
 "nbformat": 4,
 "nbformat_minor": 2
}
